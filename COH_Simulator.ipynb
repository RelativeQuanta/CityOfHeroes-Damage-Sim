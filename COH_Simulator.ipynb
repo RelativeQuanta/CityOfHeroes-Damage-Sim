{
 "cells": [
  {
   "cell_type": "code",
   "execution_count": 1,
   "id": "396b580b",
   "metadata": {},
   "outputs": [],
   "source": [
    "from pprint import pprint\n",
    "import numpy as np\n",
    "from HeroData import Arena, Hero, Mob, Power, Proc"
   ]
  },
  {
   "cell_type": "markdown",
   "id": "6f84f74e",
   "metadata": {},
   "source": [
    "# Define the powers first"
   ]
  },
  {
   "cell_type": "code",
   "execution_count": 2,
   "id": "20a980c9",
   "metadata": {},
   "outputs": [],
   "source": [
    "Power.GLOBAL_RECHARGE = .60\n",
    "xray_beam = Power(damage={\"Energy\": 100.3 * 2.0137},\n",
    "                 recharge=8. ,\n",
    "                 recharge_enhancement=1.959,\n",
    "                 cast_time=1.67,\n",
    "                 radius=0,\n",
    "                 arc=0,\n",
    "                 power_range=60,\n",
    "                 max_targets=1,\n",
    "                 name=\"xray_beam\")\n",
    "\n",
    "irradiate = Power(damage={\"Energy\": 61.17 * 1.9739},\n",
    "                 recharge=20. ,\n",
    "                 recharge_enhancement=1.4638,\n",
    "                 cast_time=1.07,\n",
    "                 radius=20,\n",
    "                 arc=360,\n",
    "                 power_range=20,\n",
    "                 max_targets=10,\n",
    "                 name=\"irradiate\",\n",
    "                 is_pbaoe=True)\n",
    "\n",
    "cosmic_burst = Power(damage={\"Energy\": 129.7 * 1.964},\n",
    "                 recharge=10.,\n",
    "                 recharge_enhancement=1.7259,\n",
    "                 cast_time=2.07,\n",
    "                 radius=0,\n",
    "                 arc=0,\n",
    "                 power_range=60,\n",
    "                 max_targets=1,\n",
    "                 name=\"cosmic_burst\")\n",
    "\n",
    "electron_haze = Power(damage={\"Energy\": 82.58 *1.9511},\n",
    "                 recharge=16.,\n",
    "                 recharge_enhancement=1.,\n",
    "                 cast_time=2.37,\n",
    "                 radius=40,\n",
    "                 arc=30,\n",
    "                 power_range=40,\n",
    "                 max_targets=6,\n",
    "                 name=\"electron_haze\")\n",
    "\n",
    "neutron_bomb = Power(damage={\"Energy\": 55.05 *1.9511},\n",
    "                 recharge=16.,\n",
    "                 recharge_enhancement=1.,\n",
    "                 cast_time=1.67,\n",
    "                 radius=15,\n",
    "                 arc=360,\n",
    "                 power_range=60,\n",
    "                 max_targets=10,\n",
    "                 name=\"neutron_bomb\")\n",
    "\n",
    "proton_stream = Power(damage={\"Energy\": 139.5*1.8451},\n",
    "                 recharge=12.,\n",
    "                 recharge_enhancement=1.,\n",
    "                 cast_time=1.67,\n",
    "                 radius=0,\n",
    "                 arc=0,\n",
    "                 power_range=60,\n",
    "                 max_targets=1,\n",
    "                 name=\"proton_stream\")\n",
    "\n",
    "atomic_blast = Power(damage={\"Energy\": 137.8 * 2.0186, \"Smashing\":56.77 * 2.0186},\n",
    "                 recharge=90.,\n",
    "                 recharge_enhancement=1.5962,\n",
    "                 cast_time=2.93,\n",
    "                 radius=20,\n",
    "                 arc=360,\n",
    "                 power_range=20,\n",
    "                 max_targets=10,\n",
    "                 name=\"atomic_blast\",\n",
    "                 is_pbaoe=True)\n",
    "\n",
    "fire_sword_circle = Power(damage={\"Fire\": 61.84 * 1.689,\"Lethal\":47.41 * 1.689},\n",
    "                 recharge=40.,\n",
    "                 recharge_enhancement=1.,\n",
    "                 cast_time=2.67,\n",
    "                 radius=10,\n",
    "                 arc=360,\n",
    "                 power_range=10,\n",
    "                 max_targets=10,\n",
    "                 name=\"fire_sword_circle\",\n",
    "                 is_pbaoe=True)\n",
    "\n",
    "ground_zero = Power(damage={\"Toxic\":61.2 * 1., \"Energy\": 61.17 * 1. },\n",
    "                 recharge=90.,\n",
    "                 recharge_enhancement=1.,\n",
    "                 cast_time=3.,\n",
    "                 radius=15,\n",
    "                 arc=360,\n",
    "                 power_range=15,\n",
    "                 max_targets=30,\n",
    "                 name=\"ground_zero\",\n",
    "                 is_pbaoe=True)\n",
    "\n",
    "\n",
    "cremate = Power(damage={\"Smashing\": 124.8 * 1.9689, \"Fire\": 85.65 * 1.9689},\n",
    "                 recharge=8.,\n",
    "                 recharge_enhancement=1.5962,\n",
    "                 cast_time=1.5,\n",
    "                 radius=0,\n",
    "                 arc=0,\n",
    "                 power_range=7,\n",
    "                 max_targets=1,\n",
    "                 name=\"cremate\")"
   ]
  },
  {
   "cell_type": "markdown",
   "id": "88202609",
   "metadata": {},
   "source": [
    "# Define the Procs"
   ]
  },
  {
   "cell_type": "code",
   "execution_count": 3,
   "id": "33d3956f",
   "metadata": {},
   "outputs": [],
   "source": [
    "achilles_heel = Proc(\"Achilles Heel\", \"ResDebuff\")\n",
    "FotG = Proc(\"Fury of the Gladiator\", \"ResDebuff\")\n",
    "Annihilation = Proc(\"Annihilation\", \"ResDebuff\", debuff_mag=.125)\n",
    "\n",
    "PosBst_dmg = Proc(\"Positron's Blast\", \"damage\", ppm=3.5, damage={\"Energy\":71.75})\n",
    "Erad_dmg = Proc(\"Eradication\", \"damage\", ppm=3.5, damage={\"Energy\":71.75})\n",
    "Obli_dmg = Proc(\"Obliteration\", \"damage\", ppm=3.5, damage={\"Smashing\":71.75})\n",
    "SciDer_dmg = Proc(\"Scirocco's Dervish\", \"damage\", ppm=3.5, damage={\"Lethal\":71.75})\n",
    "ShdB_dmg = Proc(\"Shield Breaker\", \"damage\", ppm=3.5, damage={\"Lethal\":71.75})\n",
    "ToD_dmg = Proc(\"Touch of Death\", \"damage\", ppm=3.5, damage={\"Negative\":71.75})\n",
    "ToLG_dmg = Proc(\"Touch of Lady Gray\", \"damage\", ppm=3.5, damage={\"Negative\":71.75})\n",
    "ToN_dmg = Proc(\"Touch of Nictus\", \"damage\", ppm=3.5, damage={\"Negative\":71.75})\n",
    "GlaJ_dmg = Proc(\"Gladiator's Javelin\", \"damage\", ppm=3.5, damage={\"Toxic\":71.75})\n",
    "\n",
    "Apoc_dmg = Proc(\"Apocalypse\", \"damage\", ppm=4.5, damage={\"Negative\":107.1})\n",
    "Hec_dmg = Proc(\"Hecatomb\", \"damage\", ppm=4.5, damage={\"Negative\":107.1})\n",
    "Arm_dmg = Proc(\"Armageddon\", \"damage\", ppm=4.5, damage={\"Fire\":107.1})\n"
   ]
  },
  {
   "cell_type": "markdown",
   "id": "ade03120",
   "metadata": {},
   "source": [
    "# Set up the first experiment with lots of Achilles' Heel Procs"
   ]
  },
  {
   "cell_type": "code",
   "execution_count": 4,
   "id": "7e9ff10e",
   "metadata": {},
   "outputs": [],
   "source": [
    "power_list = [xray_beam, \n",
    "              irradiate, \n",
    "              cosmic_burst, \n",
    "              electron_haze, \n",
    "              proton_stream, \n",
    "              atomic_blast, \n",
    "              ground_zero, \n",
    "              fire_sword_circle, \n",
    "              cremate]#,\n",
    "              #neutron_bomb]\n",
    "\n",
    "power_list[0].proc_list = [] # xray\n",
    "power_list[1].proc_list = [achilles_heel] # irradiate\n",
    "power_list[2].proc_list = [achilles_heel] # cosmic_burst\n",
    "power_list[3].proc_list = [Annihilation, PosBst_dmg] # electron_haze or neutron_bomb\n",
    "power_list[4].proc_list = [achilles_heel, Apoc_dmg, ToLG_dmg, ShdB_dmg] # proton_stream\n",
    "power_list[5].proc_list = [achilles_heel, Arm_dmg] # atomic_blast\n",
    "power_list[6].proc_list = [achilles_heel, ToN_dmg, Obli_dmg, ToLG_dmg] # ground_zero\n",
    "power_list[7].proc_list = [Obli_dmg, Erad_dmg, SciDer_dmg, FotG] # fire sword circle\n",
    "power_list[8].proc_list = [Hec_dmg, ToD_dmg] # cremate\n",
    "#power_list[9].proc_list = [Annihilation, PosBst_dmg] # neutron bomb"
   ]
  },
  {
   "cell_type": "markdown",
   "id": "5e40bc1f",
   "metadata": {},
   "source": [
    "# Take a Peek at Proc Chances"
   ]
  },
  {
   "cell_type": "code",
   "execution_count": 5,
   "id": "562ccb20",
   "metadata": {
    "scrolled": true
   },
   "outputs": [
    {
     "name": "stdout",
     "output_type": "stream",
     "text": [
      "xray_beam []\n",
      "irradiate [0.26443969506833287]\n",
      "cosmic_burst [0.4587379096896305]\n",
      "electron_haze [0.5730392156862745, 0.5730392156862745]\n",
      "proton_stream [0.7974166666666667, 0.9, 0.7974166666666667, 0.7974166666666667]\n",
      "atomic_blast [0.9, 0.9]\n",
      "ground_zero [0.9, 0.9, 0.9, 0.9]\n",
      "fire_sword_circle [0.9, 0.9, 0.9, 0.9]\n",
      "cremate [0.4883927452700163, 0.37986102409890155]\n"
     ]
    }
   ],
   "source": [
    "for power in power_list:\n",
    "    print(f\"{power.name} {power.proc_chance()}\")"
   ]
  },
  {
   "cell_type": "markdown",
   "id": "e68c3a36",
   "metadata": {},
   "source": [
    "# Define the Arena Reset Method "
   ]
  },
  {
   "cell_type": "code",
   "execution_count": 6,
   "id": "44663029",
   "metadata": {},
   "outputs": [],
   "source": [
    "def reset_arena(power_list, group=False, level_shift=0, verbosity=0):\n",
    "    # resists from https://forums.homecomingservers.com/topic/11157-galaxy-brains-common-resist-breakdown/\n",
    "    # using lvl 40+ adjusted values\n",
    "    Boss_resists = {\n",
    "        \"Smashing\": .0874,\n",
    "        \"Lethal\": 0.0973,\n",
    "        \"Energy\": 0.0510,\n",
    "        \"Negative\": 0.0002,\n",
    "        \"Psychic\": 0.0681,\n",
    "        \"Fire\": 0.0435,\n",
    "        \"Cold\": 0.0396,\n",
    "        \"Toxic\": 0.0966\n",
    "    }\n",
    "    LT_resists = {\n",
    "        \"Smashing\": .0781,\n",
    "        \"Lethal\": 0.0973,\n",
    "        \"Energy\": 0.0453,\n",
    "        \"Negative\": 0.0013,\n",
    "        \"Psychic\": 0.0608,\n",
    "        \"Fire\": 0.0234,\n",
    "        \"Cold\": 0.0211,\n",
    "        \"Toxic\": 0.0954\n",
    "    }\n",
    "    Minion_resists = {\n",
    "        \"Smashing\": .0314,\n",
    "        \"Lethal\": 0.0454,\n",
    "        \"Energy\": 0.0135,\n",
    "        \"Negative\": 0.0029,\n",
    "        \"Psychic\": 0.0897,\n",
    "        \"Fire\": 0.0044,\n",
    "        \"Cold\": 0.0256,\n",
    "        \"Toxic\": 0.0995\n",
    "    }\n",
    "    super_boss_resists = {\n",
    "        \"Smashing\": 0.5,\n",
    "        \"Lethal\": 0.5,\n",
    "        \"Energy\": 0.5,\n",
    "        \"Negative\": 0.5,\n",
    "        \"Psychic\": 0.5,\n",
    "        \"Fire\": 0.5,\n",
    "        \"Cold\": 0.5,\n",
    "        \"Toxic\": 0.5\n",
    "    }\n",
    "    del Arena.ARENA\n",
    "    arena = Arena()\n",
    "    Arena.ARENA = arena\n",
    "    hero = Hero()\n",
    "    hero.verbosity = verbosity\n",
    "    hero.powers = power_list\n",
    "    for p in hero.powers:\n",
    "        p.verbosity = verbosity\n",
    "    arena.add_hero(hero)\n",
    "    if not group:\n",
    "        arena.add_mob(Mob(total_hp=10000, level_shift=level_shift, base_resistance=super_boss_resists))\n",
    "    else:\n",
    "        for i in range(8):\n",
    "            mob = Mob(total_hp=431, level_shift=level_shift, base_resistance=Minion_resists)\n",
    "            arena.add_mob(mob)\n",
    "        for i in range(4):\n",
    "            mob = Mob(total_hp=858, level_shift=level_shift, base_resistance=LT_resists)\n",
    "            arena.add_mob(mob)\n",
    "        for i in range(2):\n",
    "            mob = Mob(total_hp=2650, level_shift=level_shift, base_resistance=Boss_resists)\n",
    "            arena.add_mob(mob)\n",
    "    return arena"
   ]
  },
  {
   "cell_type": "markdown",
   "id": "0c68f7e9",
   "metadata": {},
   "source": [
    "# Run One Single Target Simulation"
   ]
  },
  {
   "cell_type": "code",
   "execution_count": 7,
   "id": "27cacbea",
   "metadata": {},
   "outputs": [],
   "source": [
    "arena = reset_arena(power_list, group=False, level_shift=4, verbosity=1)"
   ]
  },
  {
   "cell_type": "markdown",
   "id": "7d3f78e5",
   "metadata": {},
   "source": [
    "## This is the Power Priority"
   ]
  },
  {
   "cell_type": "code",
   "execution_count": 8,
   "id": "7e7be372",
   "metadata": {},
   "outputs": [
    {
     "name": "stdout",
     "output_type": "stream",
     "text": [
      "cremate\n",
      "proton_stream\n",
      "atomic_blast\n",
      "fire_sword_circle\n",
      "cosmic_burst\n",
      "xray_beam\n",
      "irradiate\n",
      "ground_zero\n",
      "electron_haze\n"
     ]
    }
   ],
   "source": [
    "arena.hero.set_power_priority()\n",
    "for p in arena.hero.powers:\n",
    "    print(p.name)"
   ]
  },
  {
   "cell_type": "code",
   "execution_count": 9,
   "id": "9d7ea8c4",
   "metadata": {},
   "outputs": [
    {
     "name": "stdout",
     "output_type": "stream",
     "text": [
      "Activating power cremate at time 0.132\n",
      "Activating power proton_stream at time 1.716\n",
      "Activating power atomic_blast at time 3.432\n",
      "Cooldown ended for power cremate at 3.828\n",
      "Activating power cremate at time 6.468\n",
      "Activating power fire_sword_circle at time 8.052\n",
      "Cooldown ended for power proton_stream at 9.240\n",
      "Cooldown ended for power cremate at 10.164\n",
      "Activating power cremate at time 10.824\n",
      "Activating power proton_stream at time 12.408\n",
      "Activating power cosmic_burst at time 14.124\n",
      "Cooldown ended for power cremate at 14.520\n",
      "Activating power cremate at time 16.236\n",
      "Activating power xray_beam at time 17.820\n",
      "Cooldown ended for power cosmic_burst at 18.480\n",
      "Activating power cosmic_burst at time 19.536\n",
      "Cooldown ended for power proton_stream at 19.932\n",
      "Cooldown ended for power cremate at 19.932\n",
      "Cooldown ended for power xray_beam at 20.988\n",
      "Activating power cremate at time 21.648\n",
      "Activating power proton_stream at time 23.232\n",
      "Cooldown ended for power cosmic_burst at 23.892\n",
      "Activating power cosmic_burst at time 24.948\n",
      "Cooldown ended for power cremate at 25.344\n",
      "Activating power cremate at time 27.060\n",
      "Activating power xray_beam at time 28.644\n",
      "Cooldown ended for power cosmic_burst at 29.304\n",
      "Activating power cosmic_burst at time 30.360\n",
      "Cooldown ended for power proton_stream at 30.756\n",
      "Cooldown ended for power cremate at 30.756\n",
      "Cooldown ended for power xray_beam at 31.812\n",
      "Activating power cremate at time 32.472\n",
      "Cooldown ended for power fire_sword_circle at 33.132\n",
      "Activating power proton_stream at time 34.056\n",
      "Cooldown ended for power cosmic_burst at 34.716\n",
      "Activating power fire_sword_circle at time 35.772\n",
      "Cooldown ended for power cremate at 36.168\n",
      "Activating power cremate at time 38.544\n",
      "Activating power cosmic_burst at time 40.128\n",
      "Cooldown ended for power proton_stream at 41.580\n",
      "Cooldown ended for power cremate at 42.240\n",
      "Activating power cremate at time 42.240\n",
      "Activating power proton_stream at time 43.824\n",
      "Cooldown ended for power cosmic_burst at 44.484\n",
      "Cooldown ended for power atomic_blast at 44.484\n",
      "Activating power atomic_blast at time 45.540\n",
      "Cooldown ended for power cremate at 45.936\n",
      "Activating power cremate at time 48.576\n",
      "Activating power cosmic_burst at time 50.160\n",
      "Cooldown ended for power proton_stream at 51.348\n",
      "Cooldown ended for power cremate at 52.272\n",
      "Activating power cremate at time 52.272\n",
      "Activating power proton_stream at time 53.856\n",
      "Cooldown ended for power cosmic_burst at 54.516\n",
      "Activating power cosmic_burst at time 55.572\n",
      "Cooldown ended for power cremate at 55.968\n",
      "Activating power cremate at time 57.684\n",
      "Activating power xray_beam at time 59.268\n",
      "Cooldown ended for power cosmic_burst at 59.928\n",
      "Cooldown ended for power fire_sword_circle at 60.852\n",
      "Activating power fire_sword_circle at time 60.984\n",
      "Cooldown ended for power proton_stream at 61.380\n",
      "Cooldown ended for power cremate at 61.380\n",
      "Cooldown ended for power xray_beam at 62.436\n",
      "Activating power cremate at time 63.756\n",
      "Activating power proton_stream at time 65.340\n",
      "Activating power cosmic_burst at time 67.056\n",
      "Cooldown ended for power cremate at 67.452\n",
      "Activating power cremate at time 69.168\n",
      "Activating power xray_beam at time 70.752\n",
      "Cooldown ended for power cosmic_burst at 71.412\n",
      "Activating power cosmic_burst at time 72.468\n",
      "Cooldown ended for power proton_stream at 72.864\n",
      "Cooldown ended for power cremate at 72.864\n",
      "Cooldown ended for power xray_beam at 73.920\n",
      "Activating power cremate at time 74.580\n",
      "Activating power proton_stream at time 76.164\n",
      "Cooldown ended for power cosmic_burst at 76.824\n",
      "Activating power cosmic_burst at time 77.880\n",
      "Cooldown ended for power cremate at 78.276\n",
      "Activating power cremate at time 79.992\n",
      "Activating power xray_beam at time 81.576\n",
      "Cooldown ended for power cosmic_burst at 82.236\n",
      "Activating power cosmic_burst at time 83.292\n",
      "Cooldown ended for power proton_stream at 83.688\n",
      "Cooldown ended for power cremate at 83.688\n",
      "Cooldown ended for power xray_beam at 84.744\n",
      "Activating power cremate at time 85.404\n",
      "Cooldown ended for power fire_sword_circle at 86.064\n",
      "Cooldown ended for power atomic_blast at 86.592\n",
      "Activating power proton_stream at time 86.988\n",
      "Cooldown ended for power cosmic_burst at 87.648\n",
      "Activating power atomic_blast at time 88.704\n",
      "Cooldown ended for power cremate at 89.100\n",
      "Activating power cremate at time 91.740\n",
      "Activating power fire_sword_circle at time 93.324\n",
      "Cooldown ended for power proton_stream at 94.512\n",
      "Cooldown ended for power cremate at 95.436\n",
      "Activating power cremate at time 96.096\n",
      "Activating power proton_stream at time 97.680\n",
      "Activating power cosmic_burst at time 99.396\n",
      "Cooldown ended for power cremate at 99.792\n",
      "Activating power cremate at time 101.508\n",
      "Activating power xray_beam at time 103.092\n",
      "Cooldown ended for power cosmic_burst at 103.752\n",
      "Activating power cosmic_burst at time 104.808\n",
      "Cooldown ended for power proton_stream at 105.204\n",
      "Cooldown ended for power cremate at 105.204\n",
      "Cooldown ended for power xray_beam at 106.260\n",
      "Activating power cremate at time 106.920\n",
      "Activating power proton_stream at time 108.504\n",
      "Cooldown ended for power cosmic_burst at 109.164\n",
      "Activating power cosmic_burst at time 110.220\n",
      "Cooldown ended for power cremate at 110.616\n",
      "Activating power cremate at time 112.332\n",
      "Activating power xray_beam at time 113.916\n",
      "Cooldown ended for power cosmic_burst at 114.576\n",
      "Activating power cosmic_burst at time 115.632\n",
      "Cooldown ended for power proton_stream at 116.028\n",
      "Cooldown ended for power cremate at 116.028\n",
      "Cooldown ended for power xray_beam at 117.084\n",
      "Activating power cremate at time 117.744\n",
      "Cooldown ended for power fire_sword_circle at 118.404\n",
      "Activating power proton_stream at time 119.328\n",
      "Cooldown ended for power cosmic_burst at 119.988\n",
      "Activating power fire_sword_circle at time 121.044\n",
      "Cooldown ended for power cremate at 121.440\n",
      "Activating power cremate at time 123.816\n",
      "Activating power cosmic_burst at time 125.400\n",
      "Cooldown ended for power proton_stream at 126.852\n",
      "Cooldown ended for power cremate at 127.512\n",
      "Activating power cremate at time 127.512\n",
      "Activating power proton_stream at time 129.096\n",
      "Cooldown ended for power cosmic_burst at 129.756\n",
      "Cooldown ended for power atomic_blast at 129.756\n",
      "Activating power atomic_blast at time 130.812\n",
      "Cooldown ended for power cremate at 131.208\n",
      "Activating power cremate at time 133.848\n",
      "Activating power cosmic_burst at time 135.432\n",
      "Cooldown ended for power proton_stream at 136.620\n",
      "Cooldown ended for power cremate at 137.544\n",
      "Activating power cremate at time 137.544\n",
      "Activating power proton_stream at time 139.128\n",
      "Cooldown ended for power cosmic_burst at 139.788\n",
      "Activating power cosmic_burst at time 140.844\n",
      "Cooldown ended for power cremate at 141.240\n",
      "Activating power cremate at time 142.956\n",
      "Activating power xray_beam at time 144.540\n",
      "Cooldown ended for power cosmic_burst at 145.200\n",
      "Cooldown ended for power fire_sword_circle at 146.124\n",
      "Activating power fire_sword_circle at time 146.256\n",
      "Cooldown ended for power proton_stream at 146.652\n",
      "Cooldown ended for power cremate at 146.652\n",
      "Cooldown ended for power xray_beam at 147.708\n",
      "Activating power cremate at time 149.028\n",
      "Activating power proton_stream at time 150.612\n",
      "Activating power cosmic_burst at time 152.328\n",
      "Cooldown ended for power cremate at 152.724\n",
      "Activating power cremate at time 154.440\n",
      "Activating power xray_beam at time 156.024\n",
      "Cooldown ended for power cosmic_burst at 156.684\n",
      "Activating power cosmic_burst at time 157.740\n",
      "Cooldown ended for power proton_stream at 158.136\n",
      "Cooldown ended for power cremate at 158.136\n",
      "Cooldown ended for power xray_beam at 159.192\n",
      "Activating power cremate at time 159.852\n",
      "Activating power proton_stream at time 161.436\n",
      "Cooldown ended for power cosmic_burst at 162.096\n",
      "Activating power cosmic_burst at time 163.152\n",
      "Cooldown ended for power cremate at 163.548\n",
      "Activating power cremate at time 165.264\n",
      "Activating power xray_beam at time 166.848\n",
      "Cooldown ended for power cosmic_burst at 167.508\n",
      "Activating power cosmic_burst at time 168.564\n",
      "Cooldown ended for power proton_stream at 168.960\n",
      "Cooldown ended for power cremate at 168.960\n",
      "Cooldown ended for power xray_beam at 170.016\n",
      "Activating power cremate at time 170.676\n",
      "Cooldown ended for power fire_sword_circle at 171.336\n",
      "Cooldown ended for power atomic_blast at 171.864\n",
      "Activating power proton_stream at time 172.260\n",
      "Cooldown ended for power cosmic_burst at 172.920\n",
      "Activating power atomic_blast at time 173.976\n",
      "Cooldown ended for power cremate at 174.372\n",
      "Activating power cremate at time 177.012\n",
      "Activating power fire_sword_circle at time 178.596\n",
      "Cooldown ended for power proton_stream at 179.784\n",
      "Cooldown ended for power cremate at 180.708\n",
      "Activating power cremate at time 181.368\n",
      "Activating power proton_stream at time 182.952\n",
      "Activating power cosmic_burst at time 184.668\n",
      "Cooldown ended for power cremate at 185.064\n",
      "Activating power cremate at time 186.780\n",
      "Activating power xray_beam at time 188.364\n",
      "Cooldown ended for power cosmic_burst at 189.024\n",
      "Activating power cosmic_burst at time 190.080\n",
      "Cooldown ended for power proton_stream at 190.476\n",
      "Cooldown ended for power cremate at 190.476\n",
      "Cooldown ended for power xray_beam at 191.532\n",
      "Activating power cremate at time 192.192\n",
      "Activating power proton_stream at time 193.776\n"
     ]
    }
   ],
   "source": [
    "arena.start_simulation()"
   ]
  },
  {
   "cell_type": "code",
   "execution_count": 10,
   "id": "209396b2",
   "metadata": {},
   "outputs": [
    {
     "name": "stdout",
     "output_type": "stream",
     "text": [
      "{0: 193.77600000000456}\n",
      "{0: {'Achilles Heel': 126.324000000002,\n",
      "     'Fury of the Gladiator': 43.29599999999997}}\n"
     ]
    }
   ],
   "source": [
    "pprint(arena.mob_lifetimes)\n",
    "pprint(arena.debuff_active_time_per_mob)"
   ]
  },
  {
   "cell_type": "markdown",
   "id": "f3edc689",
   "metadata": {},
   "source": [
    "# Run One Multi-Target Simulation "
   ]
  },
  {
   "cell_type": "code",
   "execution_count": null,
   "id": "c0d33614",
   "metadata": {},
   "outputs": [],
   "source": [
    "arena = reset_arena(power_list, group=True, level_shift=4, verbosity=1)"
   ]
  },
  {
   "cell_type": "markdown",
   "id": "b91f8893",
   "metadata": {},
   "source": [
    "## This is the Power Priority.  It changes towards the single target priority as Mobs die"
   ]
  },
  {
   "cell_type": "code",
   "execution_count": null,
   "id": "1f990cea",
   "metadata": {},
   "outputs": [],
   "source": [
    "arena.hero.set_power_priority()\n",
    "for p in arena.hero.powers:\n",
    "    print(p.name)"
   ]
  },
  {
   "cell_type": "code",
   "execution_count": null,
   "id": "1460065a",
   "metadata": {},
   "outputs": [],
   "source": [
    "arena.start_simulation()\n",
    "pprint(arena.mob_lifetimes)\n",
    "pprint(arena.debuff_active_time_per_mob)"
   ]
  },
  {
   "cell_type": "code",
   "execution_count": null,
   "id": "d1be14b8",
   "metadata": {},
   "outputs": [],
   "source": [
    "pprint(arena.mob_lifetimes)\n",
    "pprint(arena.debuff_active_time_per_mob)"
   ]
  },
  {
   "cell_type": "code",
   "execution_count": 13,
   "id": "83d17e14",
   "metadata": {},
   "outputs": [],
   "source": [
    "def run_simulations(num_simulations, power_list, group=False, level_shift=0):\n",
    "    defeat_times = []\n",
    "    debuff_duration = {'Achilles Heel':[], 'Fury of the Gladiator':[], \"Annihilation\": []}\n",
    "    for trial in range(num_simulations):\n",
    "        arena = reset_arena(power_list, group=group, level_shift=level_shift, verbosity=0)\n",
    "        if trial == 0:\n",
    "            print(\"New Power Priority\")\n",
    "            arena.hero.set_power_priority()\n",
    "            for p in arena.hero.powers:\n",
    "                print(p.name)\n",
    "        arena.start_simulation()\n",
    "        time_of_mob_death = np.array(list(arena.mob_lifetimes.values()))\n",
    "        trial_debuff_times = {'Achilles Heel':[], 'Fury of the Gladiator':[], \"Annihilation\": []}\n",
    "        debuff_times = list(arena.debuff_active_time_per_mob.values())\n",
    "        for mob_debuffs in debuff_times:\n",
    "            if 'Achilles Heel' in mob_debuffs:\n",
    "                trial_debuff_times['Achilles Heel'].append(mob_debuffs['Achilles Heel'])\n",
    "            else:\n",
    "                trial_debuff_times['Achilles Heel'].append(0)\n",
    "            if 'Fury of the Gladiator' in mob_debuffs:\n",
    "                trial_debuff_times['Fury of the Gladiator'].append(mob_debuffs['Fury of the Gladiator'])\n",
    "            else:\n",
    "                trial_debuff_times['Fury of the Gladiator'].append(0)\n",
    "            if 'Annihilation' in mob_debuffs:\n",
    "                trial_debuff_times['Annihilation'].append(mob_debuffs['Annihilation'])\n",
    "            else:\n",
    "                trial_debuff_times['Annihilation'].append(0)\n",
    "                \n",
    "        #print(f\"mob death times {time_of_mob_death}\")\n",
    "        #print(f\"trial debuff times {trial_debuff_times}\")\n",
    "        trial_debuff_times['Achilles Heel'] = np.array(trial_debuff_times['Achilles Heel']) / time_of_mob_death\n",
    "        trial_debuff_times['Fury of the Gladiator'] = np.array(trial_debuff_times['Fury of the Gladiator']) / time_of_mob_death\n",
    "        trial_debuff_times['Annihilation'] = np.array(trial_debuff_times['Annihilation']) / time_of_mob_death\n",
    "        defeat_times.extend(time_of_mob_death.tolist())\n",
    "        debuff_duration['Achilles Heel'].extend(trial_debuff_times['Achilles Heel'].tolist())\n",
    "        debuff_duration['Fury of the Gladiator'].extend(trial_debuff_times['Fury of the Gladiator'].tolist())\n",
    "        debuff_duration['Annihilation'].extend(trial_debuff_times['Annihilation'].tolist())\n",
    "        if trial % 2 == 0:\n",
    "            print(f\"Completed trial {trial+1} out of {num_simulations}         \", end='\\r')\n",
    "    print(f\"Average mob defeat time {np.mean(defeat_times):.02f}s Standard Error {np.std(defeat_times) / np.sqrt(len(defeat_times)):.02f}s\")\n",
    "    print(f\"Mob average lifetime debuffed with Achilles' Heel {np.mean(debuff_duration['Achilles Heel']) * 100.:.02f}% Standard Error {np.std(debuff_duration['Achilles Heel']) * 100. / np.sqrt(len(debuff_duration['Achilles Heel'])):.02f}%\")\n",
    "    print(f\"Mob average lifetime debuffed with Fury of the Gladiator {np.mean(debuff_duration['Fury of the Gladiator']) * 100.:.02f}% Standard Error {np.std(debuff_duration['Fury of the Gladiator']) * 100. / np.sqrt(len(debuff_duration['Fury of the Gladiator'])):.02f}%\")\n",
    "    print(f\"Mob average lifetime debuffed with Annihilation {np.mean(debuff_duration['Annihilation']) * 100.:.02f}% Standard Error {np.std(debuff_duration['Annihilation']) * 100. / np.sqrt(len(debuff_duration['Annihilation'])):.02f}%\")"
   ]
  },
  {
   "cell_type": "code",
   "execution_count": null,
   "id": "5396099d",
   "metadata": {},
   "outputs": [],
   "source": [
    "run_simulations(1000, power_list, group=False, level_shift=0)"
   ]
  },
  {
   "cell_type": "code",
   "execution_count": null,
   "id": "d3261e1e",
   "metadata": {},
   "outputs": [],
   "source": [
    "run_simulations(1000, power_list, level_shift=4)"
   ]
  },
  {
   "cell_type": "code",
   "execution_count": null,
   "id": "74eed413",
   "metadata": {},
   "outputs": [],
   "source": [
    "run_simulations(1000,power_list, group=True)"
   ]
  },
  {
   "cell_type": "code",
   "execution_count": null,
   "id": "6fd7c378",
   "metadata": {},
   "outputs": [],
   "source": [
    "run_simulations(1000,power_list, group=True, level_shift=4)"
   ]
  },
  {
   "cell_type": "code",
   "execution_count": 11,
   "id": "0d95b4bb",
   "metadata": {},
   "outputs": [],
   "source": [
    "power_list = [xray_beam, \n",
    "              irradiate, \n",
    "              cosmic_burst, \n",
    "              electron_haze, \n",
    "              proton_stream, \n",
    "              atomic_blast, \n",
    "              ground_zero, \n",
    "              fire_sword_circle, \n",
    "              cremate]\n",
    "\n",
    "\n",
    "\n",
    "power_list[0].proc_list = [] # xray\n",
    "power_list[1].proc_list = [ToLG_dmg] # irradiate\n",
    "power_list[2].proc_list = [ToLG_dmg] # cosmic_burst\n",
    "power_list[3].proc_list = [Annihilation, ToLG_dmg] # electron_haze or neutron_bomb\n",
    "power_list[4].proc_list = [GlaJ_dmg, Apoc_dmg, ToLG_dmg, ShdB_dmg] # proton_stream\n",
    "power_list[5].proc_list = [ToLG_dmg, Arm_dmg] # atomic_blast\n",
    "power_list[6].proc_list = [achilles_heel, ToN_dmg, Obli_dmg, ToLG_dmg] # ground_zero\n",
    "power_list[7].proc_list = [Obli_dmg, Erad_dmg, SciDer_dmg, FotG] # fire sword circle\n",
    "power_list[8].proc_list = [Hec_dmg, ToD_dmg] # cremate"
   ]
  },
  {
   "cell_type": "code",
   "execution_count": 14,
   "id": "d5518326",
   "metadata": {},
   "outputs": [
    {
     "name": "stdout",
     "output_type": "stream",
     "text": [
      "New Power Priority\n",
      "cremate\n",
      "proton_stream\n",
      "atomic_blast\n",
      "fire_sword_circle\n",
      "cosmic_burst\n",
      "irradiate\n",
      "xray_beam\n",
      "ground_zero\n",
      "electron_haze\n",
      "Average mob defeat time 83.42s Standard Error 0.06s\n",
      "Mob average lifetime debuffed with Achilles' Heel 0.00% Standard Error 0.00%\n",
      "Mob average lifetime debuffed with Fury of the Gladiator 38.45% Standard Error 0.25%\n",
      "Mob average lifetime debuffed with Annihilation 0.00% Standard Error 0.00%\n"
     ]
    }
   ],
   "source": [
    "#Mob.DEBUFFS_APPLY_TO_ADDING_POWER = True\n",
    "run_simulations(1000, power_list)"
   ]
  },
  {
   "cell_type": "code",
   "execution_count": 15,
   "id": "4b20ee70",
   "metadata": {},
   "outputs": [
    {
     "name": "stdout",
     "output_type": "stream",
     "text": [
      "New Power Priority\n",
      "cremate\n",
      "proton_stream\n",
      "atomic_blast\n",
      "fire_sword_circle\n",
      "cosmic_burst\n",
      "irradiate\n",
      "xray_beam\n",
      "ground_zero\n",
      "electron_haze\n",
      "Average mob defeat time 184.11s Standard Error 0.07s\n",
      "Mob average lifetime debuffed with Achilles' Heel 0.00% Standard Error 0.00%\n",
      "Mob average lifetime debuffed with Fury of the Gladiator 21.96% Standard Error 0.09%\n",
      "Mob average lifetime debuffed with Annihilation 0.00% Standard Error 0.00%\n"
     ]
    }
   ],
   "source": [
    "#Mob.DEBUFFS_APPLY_TO_ADDING_POWER = True\n",
    "run_simulations(1000, power_list, level_shift=4)"
   ]
  },
  {
   "cell_type": "code",
   "execution_count": null,
   "id": "66040231",
   "metadata": {},
   "outputs": [],
   "source": [
    "#Mob.DEBUFFS_APPLY_TO_ADDING_POWER = True\n",
    "run_simulations(1000,power_list, group=True)"
   ]
  },
  {
   "cell_type": "code",
   "execution_count": null,
   "id": "faf8ae97",
   "metadata": {},
   "outputs": [],
   "source": [
    "#Mob.DEBUFFS_APPLY_TO_ADDING_POWER = True\n",
    "run_simulations(1000,power_list, group=True, level_shift=4)"
   ]
  },
  {
   "cell_type": "code",
   "execution_count": null,
   "id": "29b23112",
   "metadata": {},
   "outputs": [],
   "source": [
    "power_list = [xray_beam, \n",
    "              irradiate, \n",
    "              cosmic_burst, \n",
    "              neutron_bomb, #electron_haze, \n",
    "              proton_stream, \n",
    "              atomic_blast, \n",
    "              ground_zero, \n",
    "              fire_sword_circle, \n",
    "              cremate]\n",
    "\n",
    "\n",
    "power_list[0].proc_list = [] # xray\n",
    "power_list[1].proc_list = [minor_dmg] # irradiate\n",
    "power_list[2].proc_list = [minor_dmg] # cosmic_burst\n",
    "power_list[3].proc_list = [Annihilation, minor_dmg] # electron_haze or neutron bomb\n",
    "power_list[4].proc_list = [achilles_heel, epic_dmg, minor_dmg, minor_dmg] # proton_stream\n",
    "power_list[5].proc_list = [minor_dmg, epic_dmg] # atomic_blast\n",
    "power_list[6].proc_list = [minor_dmg, minor_dmg, minor_dmg, minor_dmg] # ground_zero\n",
    "power_list[7].proc_list = [minor_dmg, minor_dmg, minor_dmg, FotG] # fire sword circle\n",
    "power_list[8].proc_list = [epic_dmg, minor_dmg] # cremate\n",
    "#power_list[9].proc_list = [minor_dmg, minor_dmg] # neutron bomb"
   ]
  },
  {
   "cell_type": "code",
   "execution_count": null,
   "id": "d26132c8",
   "metadata": {},
   "outputs": [],
   "source": [
    "Mob.DEBUFFS_APPLY_TO_ADDING_POWER = True\n",
    "run_simulations(1000, power_list)"
   ]
  },
  {
   "cell_type": "code",
   "execution_count": null,
   "id": "b9337215",
   "metadata": {},
   "outputs": [],
   "source": [
    "Mob.DEBUFFS_APPLY_TO_ADDING_POWER = True\n",
    "run_simulations(1000, power_list, level_shift=4)"
   ]
  },
  {
   "cell_type": "code",
   "execution_count": null,
   "id": "33cf8792",
   "metadata": {},
   "outputs": [],
   "source": [
    "Mob.DEBUFFS_APPLY_TO_ADDING_POWER = True\n",
    "run_simulations(1000,power_list, group=True)"
   ]
  },
  {
   "cell_type": "code",
   "execution_count": null,
   "id": "441fc5f7",
   "metadata": {},
   "outputs": [],
   "source": [
    "Mob.DEBUFFS_APPLY_TO_ADDING_POWER = True\n",
    "run_simulations(1000,power_list, group=True, level_shift=4)"
   ]
  },
  {
   "cell_type": "code",
   "execution_count": null,
   "id": "177cad10",
   "metadata": {},
   "outputs": [],
   "source": []
  }
 ],
 "metadata": {
  "kernelspec": {
   "display_name": "Python 3 (ipykernel)",
   "language": "python",
   "name": "python3"
  },
  "language_info": {
   "codemirror_mode": {
    "name": "ipython",
    "version": 3
   },
   "file_extension": ".py",
   "mimetype": "text/x-python",
   "name": "python",
   "nbconvert_exporter": "python",
   "pygments_lexer": "ipython3",
   "version": "3.10.12"
  }
 },
 "nbformat": 4,
 "nbformat_minor": 5
}
